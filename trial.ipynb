{
 "cells": [
  {
   "cell_type": "code",
   "execution_count": null,
   "metadata": {},
   "outputs": [],
   "source": [
    "from cryptography.fernet import Fernet\n",
    "\n",
    "# Gerar uma chave e escrever em um arquivo\n",
    "def generate_key():\n",
    "    key = Fernet.generate_key()\n",
    "    with open(\"secret.key\", \"wb\") as key_file:\n",
    "        key_file.write(key)\n",
    "\n",
    "# Carregar a chave de um arquivo\n",
    "def load_key():\n",
    "    return open(\"secret.key\", \"rb\").read()\n",
    "\n",
    "# Função para criptografar a senha\n",
    "def encrypt_password(password):\n",
    "    key = load_key()\n",
    "    fernet = Fernet(key)\n",
    "    encrypted_password = fernet.encrypt(password.encode())\n",
    "    return encrypted_password\n",
    "\n",
    "# Função para descriptografar a senha\n",
    "def decrypt_password(encrypted_password):\n",
    "    key = load_key()\n",
    "    fernet = Fernet(key)\n",
    "    decrypted_password = fernet.decrypt(encrypted_password).decode()\n",
    "    return decrypted_password\n"
   ]
  },
  {
   "cell_type": "code",
   "execution_count": null,
   "metadata": {},
   "outputs": [],
   "source": [
    "# Gerar e salvar uma chave (execute isso apenas uma vez)\n",
    "#generate_key() Como a chave já foi criada no projeto, comentei no código.\n",
    "\n",
    "# Exemplo de uso\n",
    "senha = \"minha_senha_secreta\"\n",
    "senha_criptografada = encrypt_password(senha)\n",
    "print(f\"Senha criptografada: {senha_criptografada}\")\n",
    "\n",
    "senha_descriptografada = decrypt_password(senha_criptografada)\n",
    "print(f\"Senha descriptografada: {senha_descriptografada}\")"
   ]
  }
 ],
 "metadata": {
  "language_info": {
   "name": "python"
  }
 },
 "nbformat": 4,
 "nbformat_minor": 2
}
